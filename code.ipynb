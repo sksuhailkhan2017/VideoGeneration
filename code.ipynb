{
 "cells": [
  {
   "cell_type": "code",
   "execution_count": 1,
   "metadata": {},
   "outputs": [],
   "source": [
    "import requests\n",
    "\n",
    "def fetch_stock_footage(prompt):\n",
    "    url = f\"https://api.pexels.com/videos/search?query={prompt}&size=large&orientation=portrait&per_page=5\"\n",
    "    headers = {\"Authorization\": \"WfRAG5IUtSN3kSHJCXJswuGA6MfqQbRnc6ZvxQqi4Z1vXjXSgdCydi2j\"}\n",
    "    response = requests.get(url, headers=headers)\n",
    "    if response.status_code == 200:\n",
    "        return [video['video_files'][0]['link'] for video in response.json().get('videos', [])]\n",
    "    return []\n",
    "\n",
    "\n",
    "links = fetch_stock_footage(\"gym clothing advertisements\")"
   ]
  },
  {
   "cell_type": "code",
   "execution_count": 2,
   "metadata": {},
   "outputs": [
    {
     "name": "stdout",
     "output_type": "stream",
     "text": [
      "gym+clothing+advertisement\n",
      "['https://cdn.pixabay.com/video/2015/10/16/1006-142621176_small.mp4', 'https://cdn.pixabay.com/video/2020/06/27/43238-435970498_small.mp4', 'https://cdn.pixabay.com/video/2024/03/29/206029_small.mp4', 'https://cdn.pixabay.com/video/2023/01/27/148208-793717949_small.mp4', 'https://cdn.pixabay.com/video/2021/06/16/77916-563974349_small.mp4']\n"
     ]
    }
   ],
   "source": [
    "import requests\n",
    "from urllib.parse import quote_plus\n",
    "\n",
    "def fetch_stock_footage(prompt):\n",
    "    encoded_prompt = quote_plus(prompt)  # Encodes spaces as +\n",
    "    print(encoded_prompt)\n",
    "    url = f\"https://pixabay.com/api/videos/?key=47559207-6a059c5662f5f2564ce2379f2&q={encoded_prompt}&orientation=vertical&per_page=5\"\n",
    "    \n",
    "    headers = {\n",
    "        \"Content-Type\": \"application/json\",  # Set the Content-Type header\n",
    "        \"User-Agent\": \"Mozilla/5.0 (Windows NT 10.0; Win64; x64) AppleWebKit/537.36 (KHTML, like Gecko) Chrome/91.0.4472.124 Safari/537.36\"\n",
    "    }\n",
    "    \n",
    "    response = requests.get(url, headers=headers)\n",
    "    if response.status_code == 200:\n",
    "       \n",
    "        return [video['videos'][\"small\"][\"url\"] for video in response.json().get('hits', [])]\n",
    "    else:\n",
    "        print(f\"Error: {response.status_code}\")\n",
    "        print(response.text)  # Print the error message from the response\n",
    "    return []\n",
    "\n",
    "links = fetch_stock_footage(\"gym clothing advertisement\")\n",
    "print(links)\n"
   ]
  },
  {
   "cell_type": "code",
   "execution_count": 3,
   "metadata": {},
   "outputs": [
    {
     "data": {
      "text/plain": [
       "['https://cdn.pixabay.com/video/2015/10/16/1006-142621176_small.mp4',\n",
       " 'https://cdn.pixabay.com/video/2020/06/27/43238-435970498_small.mp4',\n",
       " 'https://cdn.pixabay.com/video/2024/03/29/206029_small.mp4',\n",
       " 'https://cdn.pixabay.com/video/2023/01/27/148208-793717949_small.mp4',\n",
       " 'https://cdn.pixabay.com/video/2021/06/16/77916-563974349_small.mp4']"
      ]
     },
     "execution_count": 3,
     "metadata": {},
     "output_type": "execute_result"
    }
   ],
   "source": [
    "links"
   ]
  },
  {
   "cell_type": "code",
   "execution_count": 8,
   "metadata": {},
   "outputs": [],
   "source": [
    "from moviepy import VideoFileClip, concatenate_videoclips, TextClip, CompositeVideoClip\n",
    "def create_video_with_captions(video_links, script_text, output_file):\n",
    "    try:\n",
    "        clips = []\n",
    "        captions = script_text.split('.')\n",
    "        \n",
    "        for idx, video_link in enumerate(video_links):\n",
    "            clip = VideoFileClip(video_link).subclipped(0, 5)  # Use only first 5 seconds\n",
    "            \n",
    "            if idx < len(captions):\n",
    "                caption_text = captions[idx].strip()\n",
    "                if caption_text:  # Ensure there's valid text\n",
    "                    caption = (\n",
    "                        TextClip(\n",
    "                            caption_text,\n",
    "                            fontsize=50,\n",
    "                            color='white',\n",
    "                            font=\"Arial\",\n",
    "                            bg_color='black',\n",
    "                        )\n",
    "                        .set_duration(clip.duration)\n",
    "                        .set_position(('center', 'bottom'))  # Adjust position\n",
    "                    )\n",
    "                    clip = CompositeVideoClip([clip, caption])\n",
    "            \n",
    "            clips.append(clip)\n",
    "        \n",
    "        final_video = concatenate_videoclips(clips, method=\"compose\")\n",
    "        final_video.write_videofile(output_file, codec=\"libx264\", fps=24)\n",
    "        return output_file\n",
    "\n",
    "    except Exception as e:\n",
    "        print(e)\n",
    "        return None\n",
    "\n",
    "# def create_video_with_captions(video_links, script_text, output_file):\n",
    "#     clips = []\n",
    "#     captions = script_text.split('.')\n",
    "#     for idx, video_link in enumerate(video_links):\n",
    "#         clip = VideoFileClip(video_link).subclipped(0, 5)  # Use only first 5 seconds\n",
    "\n",
    "#         if idx < len(captions):\n",
    "#             caption = TextClip(text=captions[idx], font=\"calibri\",font_size=72, color='white', bg_color='black',duration=clip.duration,horizontal_align=\"center\",vertical_align=\"center\")\n",
    "#             # caption = caption.set_duration(clip.duration).set_position(('center', 'bottom'))\n",
    "#             clip = CompositeVideoClip([clip, caption])\n",
    "#         clips.append(clip)\n",
    "\n",
    "#     final_video = concatenate_videoclips(clips, method=\"compose\")\n",
    "#     final_video.write_videofile(output_file, codec=\"libx264\", fps=24)\n",
    "\n",
    "script = \"\"\"\"\n",
    "Elevate your workout wardrobe with our premium gym clothing collection! Designed for comfort, style, and performance, our apparel helps you push your limits while looking great. From moisture-wicking t-shirts and breathable leggings to supportive sports bras and versatile shorts, we have everything you need to stay active and confident. Made with high-quality fabrics that move with you, our gym wear is perfect for every workout, from intense HIIT sessions to relaxing yoga flows. With sleek designs and a perfect fit, you’ll feel empowered to tackle any challenge. Shop now and upgrade your fitness gear for the ultimate workout experience!\"\"\""
   ]
  },
  {
   "cell_type": "code",
   "execution_count": 9,
   "metadata": {},
   "outputs": [
    {
     "name": "stdout",
     "output_type": "stream",
     "text": [
      "multiple values for argument 'font'\n"
     ]
    }
   ],
   "source": [
    "create_video_with_captions(links,script,\"output6.mp4\")"
   ]
  },
  {
   "cell_type": "code",
   "execution_count": 7,
   "metadata": {},
   "outputs": [],
   "source": [
    "def add_background_music(video_file, music_file, output_file):\n",
    "    video = VideoFileClip(video_file)\n",
    "    music = VideoFileClip(music_file).audio\n",
    "    video = video.set_audio(music)\n",
    "    video.write_videofile(output_file, codec=\"libx264\", fps=24)\n"
   ]
  },
  {
   "cell_type": "code",
   "execution_count": null,
   "metadata": {},
   "outputs": [],
   "source": []
  }
 ],
 "metadata": {
  "kernelspec": {
   "display_name": "Python 3",
   "language": "python",
   "name": "python3"
  },
  "language_info": {
   "codemirror_mode": {
    "name": "ipython",
    "version": 3
   },
   "file_extension": ".py",
   "mimetype": "text/x-python",
   "name": "python",
   "nbconvert_exporter": "python",
   "pygments_lexer": "ipython3",
   "version": "3.12.3"
  }
 },
 "nbformat": 4,
 "nbformat_minor": 2
}
