{
 "cells": [
  {
   "cell_type": "code",
   "execution_count": 1,
   "metadata": {},
   "outputs": [],
   "source": [
    "import requests\n",
    "\n",
    "def fetch_stock_footage_pexels(prompt):\n",
    "    url = f\"https://api.pexels.com/videos/search?query={prompt}&size=large&orientation=portrait&per_page=5\"\n",
    "    headers = {\"Authorization\": \"WfRAG5IUtSN3kSHJCXJswuGA6MfqQbRnc6ZvxQqi4Z1vXjXSgdCydi2j\"}\n",
    "    response = requests.get(url, headers=headers)\n",
    "    if response.status_code == 200:\n",
    "        return [video['video_files'][0]['link'] for video in response.json().get('videos', [])], response.json()\n",
    "    return []\n",
    "\n",
    "\n",
    "links = fetch_stock_footage_pexels(\"gym clothing advertisements\")"
   ]
  },
  {
   "cell_type": "code",
   "execution_count": 4,
   "metadata": {},
   "outputs": [],
   "source": [
    "import json"
   ]
  },
  {
   "cell_type": "code",
   "execution_count": 19,
   "metadata": {},
   "outputs": [],
   "source": [
    "time_cap=json.loads(open(\"sample_timed_scripts.json\", \"r\").read())"
   ]
  },
  {
   "cell_type": "code",
   "execution_count": 20,
   "metadata": {},
   "outputs": [
    {
     "data": {
      "text/plain": [
       "(list,\n",
       " [{'start_time': 0.0, 'end_time': 0.7, 'caption': 'Calling all'},\n",
       "  {'start_time': 0.7, 'end_time': 1.4, 'caption': 'Sari lovers'},\n",
       "  {'start_time': 1.4, 'end_time': 3.08, 'caption': 'Diwali is'},\n",
       "  {'start_time': 3.08, 'end_time': 3.64, 'caption': 'here and'},\n",
       "  {'start_time': 3.64, 'end_time': 3.88, 'caption': 'we are'},\n",
       "  {'start_time': 3.88, 'end_time': 4.34, 'caption': 'celebrating'},\n",
       "  {'start_time': 4.34, 'end_time': 5.1, 'caption': 'with a dazzling'},\n",
       "  {'start_time': 5.1, 'end_time': 6.58, 'caption': 'sail Get'},\n",
       "  {'start_time': 6.58, 'end_time': 7.04, 'caption': 'ready to'},\n",
       "  {'start_time': 7.04, 'end_time': 7.36, 'caption': 'light up'},\n",
       "  {'start_time': 7.36, 'end_time': 7.88, 'caption': 'your wardrobe'},\n",
       "  {'start_time': 7.88, 'end_time': 8.3, 'caption': 'with our'},\n",
       "  {'start_time': 8.3, 'end_time': 8.76, 'caption': 'exquisite'},\n",
       "  {'start_time': 8.76, 'end_time': 9.42, 'caption': 'collection of'},\n",
       "  {'start_time': 9.42, 'end_time': 10.2, 'caption': 'serres now'},\n",
       "  {'start_time': 10.2, 'end_time': 11.34, 'caption': 'at 50 off'},\n",
       "  {'start_time': 11.34, 'end_time': 12.5, 'caption': 'From'},\n",
       "  {'start_time': 12.5, 'end_time': 12.94, 'caption': 'traditional'},\n",
       "  {'start_time': 12.94, 'end_time': 13.5, 'caption': 'silks to'},\n",
       "  {'start_time': 13.5, 'end_time': 13.96, 'caption': 'contemporary'},\n",
       "  {'start_time': 13.96, 'end_time': 14.8, 'caption': 'geogets we'},\n",
       "  {'start_time': 14.8, 'end_time': 15.38, 'caption': 'have a Sari'},\n",
       "  {'start_time': 15.38, 'end_time': 15.84, 'caption': 'for every'},\n",
       "  {'start_time': 15.84, 'end_time': 16.36, 'caption': 'taste and'},\n",
       "  {'start_time': 16.36, 'end_time': 16.74, 'caption': 'occasion'},\n",
       "  {'start_time': 16.74, 'end_time': 18.18, 'caption': 'Emmerce'},\n",
       "  {'start_time': 18.18, 'end_time': 18.72, 'caption': 'yourself in'},\n",
       "  {'start_time': 18.72, 'end_time': 19.16, 'caption': 'the vibrant'},\n",
       "  {'start_time': 19.16, 'end_time': 19.52, 'caption': 'colours'},\n",
       "  {'start_time': 19.52, 'end_time': 20.04, 'caption': 'intricate'},\n",
       "  {'start_time': 20.04, 'end_time': 20.9, 'caption': 'designs and'},\n",
       "  {'start_time': 20.9, 'end_time': 21.34, 'caption': 'luxurious'},\n",
       "  {'start_time': 21.34, 'end_time': 22.02, 'caption': 'fabrics that'},\n",
       "  {'start_time': 22.02, 'end_time': 22.58, 'caption': 'define the'},\n",
       "  {'start_time': 22.58, 'end_time': 22.94, 'caption': 'timeless'},\n",
       "  {'start_time': 22.94, 'end_time': 23.64, 'caption': 'elegance of'},\n",
       "  {'start_time': 23.64, 'end_time': 24.42, 'caption': 'Indian serres'},\n",
       "  {'start_time': 24.42, 'end_time': 25.9, 'caption': \"Whether you're\"},\n",
       "  {'start_time': 25.9, 'end_time': 26.32, 'caption': 'dressing up'},\n",
       "  {'start_time': 26.32, 'end_time': 26.92, 'caption': 'for a festive'},\n",
       "  {'start_time': 26.92, 'end_time': 27.6, 'caption': 'gathering or'},\n",
       "  {'start_time': 27.6, 'end_time': 28.22, 'caption': 'simply want'},\n",
       "  {'start_time': 28.22, 'end_time': 28.62, 'caption': 'to add a'},\n",
       "  {'start_time': 28.62, 'end_time': 29.02, 'caption': 'touch of'},\n",
       "  {'start_time': 29.02, 'end_time': 29.52, 'caption': 'glamour to'},\n",
       "  {'start_time': 29.52, 'end_time': 30.06, 'caption': 'your everyday'},\n",
       "  {'start_time': 30.06, 'end_time': 30.82, 'caption': 'style our'},\n",
       "  {'start_time': 30.82, 'end_time': 31.62, 'caption': 'Diwali Sari'},\n",
       "  {'start_time': 31.62, 'end_time': 32.16, 'caption': 'sale has'},\n",
       "  {'start_time': 32.16, 'end_time': 32.72, 'caption': 'something for'},\n",
       "  {'start_time': 32.72, 'end_time': 34.1, 'caption': 'you Visit'},\n",
       "  {'start_time': 34.1, 'end_time': 34.56, 'caption': 'our store'},\n",
       "  {'start_time': 34.56, 'end_time': 35.12, 'caption': 'today and'},\n",
       "  {'start_time': 35.12, 'end_time': 35.78, 'caption': 'let the spirit'},\n",
       "  {'start_time': 35.78, 'end_time': 36.36, 'caption': 'of Diwali'},\n",
       "  {'start_time': 36.36, 'end_time': 36.94, 'caption': 'shine through'},\n",
       "  {'start_time': 36.94, 'end_time': 37.52, 'caption': 'your wardrobe'}])"
      ]
     },
     "execution_count": 20,
     "metadata": {},
     "output_type": "execute_result"
    }
   ],
   "source": [
    "type(time_cap), time_cap"
   ]
  },
  {
   "cell_type": "code",
   "execution_count": 21,
   "metadata": {},
   "outputs": [
    {
     "name": "stdout",
     "output_type": "stream",
     "text": [
      "56 {'start_time': 36.94, 'end_time': 37.52, 'caption': 'your wardrobe'}}\r"
     ]
    }
   ],
   "source": [
    "objects_=[]\n",
    "for ind, i in enumerate(time_cap):\n",
    "    print(ind, i, end=\"\\r\")\n",
    "    if i.get(\"caption\", None):\n",
    "        links = fetch_stock_footage_pexels(i.get(\"caption\", None))\n",
    "        objects_.append({\"caption\":i.get(\"caption\"), \"links\":links})\n",
    "        \n",
    "with open(\"objects_from_pexels.json\", \"w\") as f:\n",
    "    json.dump(objects_, f)"
   ]
  },
  {
   "cell_type": "code",
   "execution_count": 2,
   "metadata": {},
   "outputs": [
    {
     "name": "stdout",
     "output_type": "stream",
     "text": [
      "gym+clothing+advertisement\n",
      "['https://cdn.pixabay.com/video/2015/10/16/1006-142621176_small.mp4', 'https://cdn.pixabay.com/video/2020/06/27/43238-435970498_small.mp4', 'https://cdn.pixabay.com/video/2024/03/29/206029_small.mp4', 'https://cdn.pixabay.com/video/2023/01/27/148208-793717949_small.mp4', 'https://cdn.pixabay.com/video/2021/06/16/77916-563974349_small.mp4']\n"
     ]
    }
   ],
   "source": [
    "import requests\n",
    "from urllib.parse import quote_plus\n",
    "\n",
    "def fetch_stock_footage(prompt):\n",
    "    encoded_prompt = quote_plus(prompt)  # Encodes spaces as +\n",
    "    print(encoded_prompt)\n",
    "    url = f\"https://pixabay.com/api/videos/?key=47559207-6a059c5662f5f2564ce2379f2&q={encoded_prompt}&orientation=vertical&per_page=5\"\n",
    "    \n",
    "    headers = {\n",
    "        \"Content-Type\": \"application/json\",  # Set the Content-Type header\n",
    "        \"User-Agent\": \"Mozilla/5.0 (Windows NT 10.0; Win64; x64) AppleWebKit/537.36 (KHTML, like Gecko) Chrome/91.0.4472.124 Safari/537.36\"\n",
    "    }\n",
    "    \n",
    "    response = requests.get(url, headers=headers)\n",
    "    if response.status_code == 200:\n",
    "       \n",
    "        return [video['videos'][\"small\"][\"url\"] for video in response.json().get('hits', [])]\n",
    "    else:\n",
    "        print(f\"Error: {response.status_code}\")\n",
    "        print(response.text)  # Print the error message from the response\n",
    "    return []\n",
    "\n",
    "links = fetch_stock_footage(\"gym clothing advertisement\")\n",
    "print(links)\n"
   ]
  },
  {
   "cell_type": "code",
   "execution_count": 3,
   "metadata": {},
   "outputs": [
    {
     "data": {
      "text/plain": [
       "['https://cdn.pixabay.com/video/2015/10/16/1006-142621176_small.mp4',\n",
       " 'https://cdn.pixabay.com/video/2020/06/27/43238-435970498_small.mp4',\n",
       " 'https://cdn.pixabay.com/video/2024/03/29/206029_small.mp4',\n",
       " 'https://cdn.pixabay.com/video/2023/01/27/148208-793717949_small.mp4',\n",
       " 'https://cdn.pixabay.com/video/2021/06/16/77916-563974349_small.mp4']"
      ]
     },
     "execution_count": 3,
     "metadata": {},
     "output_type": "execute_result"
    }
   ],
   "source": [
    "links"
   ]
  },
  {
   "cell_type": "code",
   "execution_count": 8,
   "metadata": {},
   "outputs": [],
   "source": [
    "from moviepy import VideoFileClip, concatenate_videoclips, TextClip, CompositeVideoClip\n",
    "def create_video_with_captions(video_links, script_text, output_file):\n",
    "    try:\n",
    "        clips = []\n",
    "        captions = script_text.split('.')\n",
    "        \n",
    "        for idx, video_link in enumerate(video_links):\n",
    "            clip = VideoFileClip(video_link).subclipped(0, 5)  # Use only first 5 seconds\n",
    "            \n",
    "            if idx < len(captions):\n",
    "                caption_text = captions[idx].strip()\n",
    "                if caption_text:  # Ensure there's valid text\n",
    "                    caption = (\n",
    "                        TextClip(\n",
    "                            caption_text,\n",
    "                            fontsize=50,\n",
    "                            color='white',\n",
    "                            font=\"Arial\",\n",
    "                            bg_color='black',\n",
    "                        )\n",
    "                        .set_duration(clip.duration)\n",
    "                        .set_position(('center', 'bottom'))  # Adjust position\n",
    "                    )\n",
    "                    clip = CompositeVideoClip([clip, caption])\n",
    "            \n",
    "            clips.append(clip)\n",
    "        \n",
    "        final_video = concatenate_videoclips(clips, method=\"compose\")\n",
    "        final_video.write_videofile(output_file, codec=\"libx264\", fps=24)\n",
    "        return output_file\n",
    "\n",
    "    except Exception as e:\n",
    "        print(e)\n",
    "        return None\n",
    "\n",
    "# def create_video_with_captions(video_links, script_text, output_file):\n",
    "#     clips = []\n",
    "#     captions = script_text.split('.')\n",
    "#     for idx, video_link in enumerate(video_links):\n",
    "#         clip = VideoFileClip(video_link).subclipped(0, 5)  # Use only first 5 seconds\n",
    "\n",
    "#         if idx < len(captions):\n",
    "#             caption = TextClip(text=captions[idx], font=\"calibri\",font_size=72, color='white', bg_color='black',duration=clip.duration,horizontal_align=\"center\",vertical_align=\"center\")\n",
    "#             # caption = caption.set_duration(clip.duration).set_position(('center', 'bottom'))\n",
    "#             clip = CompositeVideoClip([clip, caption])\n",
    "#         clips.append(clip)\n",
    "\n",
    "#     final_video = concatenate_videoclips(clips, method=\"compose\")\n",
    "#     final_video.write_videofile(output_file, codec=\"libx264\", fps=24)\n",
    "\n",
    "script = \"\"\"\"\n",
    "Elevate your workout wardrobe with our premium gym clothing collection! Designed for comfort, style, and performance, our apparel helps you push your limits while looking great. From moisture-wicking t-shirts and breathable leggings to supportive sports bras and versatile shorts, we have everything you need to stay active and confident. Made with high-quality fabrics that move with you, our gym wear is perfect for every workout, from intense HIIT sessions to relaxing yoga flows. With sleek designs and a perfect fit, you’ll feel empowered to tackle any challenge. Shop now and upgrade your fitness gear for the ultimate workout experience!\"\"\""
   ]
  },
  {
   "cell_type": "code",
   "execution_count": 9,
   "metadata": {},
   "outputs": [
    {
     "name": "stdout",
     "output_type": "stream",
     "text": [
      "multiple values for argument 'font'\n"
     ]
    }
   ],
   "source": [
    "create_video_with_captions(links,script,\"output6.mp4\")"
   ]
  },
  {
   "cell_type": "code",
   "execution_count": 7,
   "metadata": {},
   "outputs": [],
   "source": [
    "def add_background_music(video_file, music_file, output_file):\n",
    "    video = VideoFileClip(video_file)\n",
    "    music = VideoFileClip(music_file).audio\n",
    "    video = video.set_audio(music)\n",
    "    video.write_videofile(output_file, codec=\"libx264\", fps=24)\n"
   ]
  },
  {
   "cell_type": "code",
   "execution_count": null,
   "metadata": {},
   "outputs": [],
   "source": []
  }
 ],
 "metadata": {
  "kernelspec": {
   "display_name": "Python 3",
   "language": "python",
   "name": "python3"
  },
  "language_info": {
   "codemirror_mode": {
    "name": "ipython",
    "version": 3
   },
   "file_extension": ".py",
   "mimetype": "text/x-python",
   "name": "python",
   "nbconvert_exporter": "python",
   "pygments_lexer": "ipython3",
   "version": "3.12.8"
  }
 },
 "nbformat": 4,
 "nbformat_minor": 2
}
