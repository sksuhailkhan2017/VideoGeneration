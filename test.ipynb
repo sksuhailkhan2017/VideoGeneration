{
 "cells": [
  {
   "cell_type": "code",
   "execution_count": 1,
   "metadata": {},
   "outputs": [
    {
     "name": "stderr",
     "output_type": "stream",
     "text": [
      "c:\\Users\\GLB-BLR-307\\Documents\\VideoGeneration\\venv_vid_gen_312\\Lib\\site-packages\\tqdm\\auto.py:21: TqdmWarning: IProgress not found. Please update jupyter and ipywidgets. See https://ipywidgets.readthedocs.io/en/stable/user_install.html\n",
      "  from .autonotebook import tqdm as notebook_tqdm\n"
     ]
    }
   ],
   "source": [
    "from main_2 import generate_script_gemini"
   ]
  },
  {
   "cell_type": "code",
   "execution_count": 4,
   "metadata": {},
   "outputs": [],
   "source": [
    "secs = 50\n",
    "secs_for_each_clip = 10\n",
    "number_of_clips_to_merge = secs // secs_for_each_clip"
   ]
  },
  {
   "cell_type": "code",
   "execution_count": 6,
   "metadata": {},
   "outputs": [
    {
     "data": {
      "text/plain": [
       "5"
      ]
     },
     "execution_count": 6,
     "metadata": {},
     "output_type": "execute_result"
    }
   ],
   "source": [
    "number_of_clips_to_merge"
   ]
  },
  {
   "cell_type": "code",
   "execution_count": 7,
   "metadata": {},
   "outputs": [
    {
     "name": "stdout",
     "output_type": "stream",
     "text": [
      "Based on the instruction prepare a video ad script that will be displayed over the video as subtitles.\n",
      "                                      Since I have merged few videos of different time span to make this video, Consider the script to be divided into the repective time-spans in the list:\n",
      "                                      ['10 secs', '10 secs', '10 secs', '10 secs', '10 secs'],\n",
      "                                      \n",
      "                                      Prepare a script for INSTRUCTION:\"General purpose Create an add for employee monitoring system and its ease of integration with the workspace\".\n",
      "                                                           Other_information: Brand name is \"Emp monitor\", Tag line of brand is \"Time matters\", Our sale is also live.\n",
      "                                      \n",
      "                                      Pattern: [<str>,<str>] make one short and another a longer sentence for each.\n",
      "                                      HINT: Based on this generated test we are going to gather the videos so just keep it general and try to observe the information from the INSTRUCTION itself.\n",
      "                                      NOTE: Response should be a list of text only. as [[<str>,<str>], [<str>,<str>]...]. Only return this list in python tags.\n",
      "                                      MAKE SURE TO KEEP EACH TEXT WITHIN 70 CHARACTERS EACH\n"
     ]
    }
   ],
   "source": [
    "gemini_response, raw = generate_script_gemini(instruction=\"Create an add for employee monitoring system and its ease of integration with the workspace\", brand_name=\"EMP Monitor\", tag_line=\"Time matters\", sale=True,time_spans=[str(secs_for_each_clip)+\" secs\" for i in range(number_of_clips_to_merge)])\n"
   ]
  },
  {
   "cell_type": "code",
   "execution_count": 8,
   "metadata": {},
   "outputs": [
    {
     "data": {
      "text/plain": [
       "['EmpMonitor: Time Matters', 'Effortless employee monitoring.']"
      ]
     },
     "execution_count": 8,
     "metadata": {},
     "output_type": "execute_result"
    }
   ],
   "source": [
    "gemini_response"
   ]
  }
 ],
 "metadata": {
  "kernelspec": {
   "display_name": "venv_vid_gen_312",
   "language": "python",
   "name": "python3"
  },
  "language_info": {
   "codemirror_mode": {
    "name": "ipython",
    "version": 3
   },
   "file_extension": ".py",
   "mimetype": "text/x-python",
   "name": "python",
   "nbconvert_exporter": "python",
   "pygments_lexer": "ipython3",
   "version": "3.12.8"
  }
 },
 "nbformat": 4,
 "nbformat_minor": 2
}
