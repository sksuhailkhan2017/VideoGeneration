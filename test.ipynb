{
 "cells": [
  {
   "cell_type": "code",
   "execution_count": 1,
   "metadata": {},
   "outputs": [
    {
     "name": "stderr",
     "output_type": "stream",
     "text": [
      "c:\\Users\\GLB-BLR-307\\Documents\\VideoGeneration\\venv_vid_gen_312\\Lib\\site-packages\\tqdm\\auto.py:21: TqdmWarning: IProgress not found. Please update jupyter and ipywidgets. See https://ipywidgets.readthedocs.io/en/stable/user_install.html\n",
      "  from .autonotebook import tqdm as notebook_tqdm\n"
     ]
    }
   ],
   "source": [
    "from main_2 import generate_script_gemini, extract_list_from_text"
   ]
  },
  {
   "cell_type": "code",
   "execution_count": 2,
   "metadata": {},
   "outputs": [],
   "source": [
    "secs = 50\n",
    "secs_for_each_clip = 5\n",
    "number_of_clips_to_merge = secs // secs_for_each_clip"
   ]
  },
  {
   "cell_type": "code",
   "execution_count": 3,
   "metadata": {},
   "outputs": [
    {
     "data": {
      "text/plain": [
       "10"
      ]
     },
     "execution_count": 3,
     "metadata": {},
     "output_type": "execute_result"
    }
   ],
   "source": [
    "number_of_clips_to_merge"
   ]
  },
  {
   "cell_type": "code",
   "execution_count": 4,
   "metadata": {},
   "outputs": [
    {
     "name": "stdout",
     "output_type": "stream",
     "text": [
      "Prepare a video ad script that will appear as subtitles over a merged video containing different time spans, as provided:  \n",
      "['5 secs', '5 secs', '5 secs', '5 secs', '5 secs', '5 secs', '5 secs', '5 secs', '5 secs', '5 secs']  \n",
      "\n",
      "**INSTRUCTION**: \"General purpose Create an add for employee monitoring system and its ease of integration with the workspace\"  \n",
      "Other_information: Brand name is \"Emp monitor\", Tag line of brand is \"Time matters\", Our sale is also live.  \n",
      "\n",
      "**Output Pattern**:  \n",
      "A list of pairs in the format:  \n",
      "`[[<short_sentence_with_keywords>, <longer_sentence>], [<short_sentence_with_keywords>, <longer_sentence>], ...]`  \n",
      "\n",
      "- **Short Sentence**: 5 words or fewer, containing visually concrete and specific keywords.  \n",
      "    - Examples: \"Cheetah running\", \"Rainy street\", \"Sunset beach\".  \n",
      "    - Avoid vague phrases like \"beautiful view\" or \"emotional moment\".  \n",
      "- **Longer Sentence**: Descriptive context (within 50 words) that complements the short sentence.  \n",
      "\n",
      "**HINTS**:  \n",
      "- Use short sentences as **searchable visual keywords** for matching relevant background visuals.  \n",
      "- If a sentence lacks clarity, combine it with context from nearby sentences to infer the correct visual keywords.  \n",
      "- Use **English only** in the responses.  \n",
      "\n",
      "**EXPECTED RESPONSE**:  \n",
      "```\n",
      "<BEGIN> [[<short_sentence_1>, <longer_sentence_1>], [<short_sentence_2>, <longer_sentence_2>], ...] <END>\n",
      "```\n",
      "\n",
      "**Response Guidelines**:  \n",
      "1. Strictly return a **nested list** formatted as specified above.  \n",
      "2. **Do not include** additional items, notes, symbols, or encodings (e.g., no `“` or explanations).  \n",
      "3. Ensure:  \n",
      "    - Short sentences are visually specific and contain 5 words or fewer.  \n",
      "    - Longer sentences are descriptive, stay within 50 words, and relate to the short sentence.  \n",
      "\n",
      "**Example Response**:  \n",
      "```\n",
      "<BEGIN> [['Snowy mountain peak', 'A majestic view of snow-covered peaks under the clear blue sky.'], ['City skyline at dusk', 'The city lights begin to glow as the sun sets over the horizon.'], ['Forest trail morning sunlight', 'Sunlight filters through tall trees, illuminating a quiet forest path.']] <END>\n",
      "```\n",
      "\n",
      "response: response:\n",
      "GenerateContentResponse(\n",
      "    done=True,\n",
      "    iterator=None,\n",
      "    result=protos.GenerateContentResponse({\n",
      "      \"candidates\": [\n",
      "        {\n",
      "          \"content\": {\n",
      "            \"parts\": [\n",
      "              {\n",
      "                \"text\": \"```\\n<BEGIN> [['Monitor employee activity', 'EmpMonitor: Seamlessly track employee performance.'], ['Easy integration process', 'Effortless setup with your existing workspace.'], ['Boost team productivity', 'Improve efficiency and achieve better results.'], ['Real-time data insights', 'Gain valuable insights into team performance.'], ['Data-driven decisions', 'Make informed decisions based on accurate data.'], ['Sale now live!', 'Get EmpMonitor now at a special price!'], ['Time matters', 'EmpMonitor helps you make the most of your time.'], ['Secure employee data', 'Safe and reliable platform to monitor your team.'], ['Improved workplace efficiency', 'Streamline operations with EmpMonitor.'], ['Increase workplace productivity', 'Maximize productivity with EmpMonitor\\\\'s simple interface.']] <END>\\n```\\n\"\n",
      "              }\n",
      "            ],\n",
      "            \"role\": \"model\"\n",
      "          },\n",
      "          \"finish_reason\": \"STOP\",\n",
      "          \"avg_logprobs\": -0.40668628329322454\n",
      "        }\n",
      "      ],\n",
      "      \"usage_metadata\": {\n",
      "        \"prompt_token_count\": 538,\n",
      "        \"candidates_token_count\": 168,\n",
      "        \"total_token_count\": 706\n",
      "      }\n",
      "    }),\n",
      ")\n"
     ]
    }
   ],
   "source": [
    "gemini_response, raw = generate_script_gemini(instruction=\"Create an add for employee monitoring system and its ease of integration with the workspace\", brand_name=\"EMP Monitor\", tag_line=\"Time matters\", sale=True,time_spans=[str(secs_for_each_clip)+\" secs\" for i in range(number_of_clips_to_merge)])\n"
   ]
  },
  {
   "cell_type": "code",
   "execution_count": 5,
   "metadata": {},
   "outputs": [
    {
     "data": {
      "text/plain": [
       "response:\n",
       "GenerateContentResponse(\n",
       "    done=True,\n",
       "    iterator=None,\n",
       "    result=protos.GenerateContentResponse({\n",
       "      \"candidates\": [\n",
       "        {\n",
       "          \"content\": {\n",
       "            \"parts\": [\n",
       "              {\n",
       "                \"text\": \"```\\n<BEGIN> [['Monitor employee activity', 'EmpMonitor: Seamlessly track employee performance.'], ['Easy integration process', 'Effortless setup with your existing workspace.'], ['Boost team productivity', 'Improve efficiency and achieve better results.'], ['Real-time data insights', 'Gain valuable insights into team performance.'], ['Data-driven decisions', 'Make informed decisions based on accurate data.'], ['Sale now live!', 'Get EmpMonitor now at a special price!'], ['Time matters', 'EmpMonitor helps you make the most of your time.'], ['Secure employee data', 'Safe and reliable platform to monitor your team.'], ['Improved workplace efficiency', 'Streamline operations with EmpMonitor.'], ['Increase workplace productivity', 'Maximize productivity with EmpMonitor\\\\'s simple interface.']] <END>\\n```\\n\"\n",
       "              }\n",
       "            ],\n",
       "            \"role\": \"model\"\n",
       "          },\n",
       "          \"finish_reason\": \"STOP\",\n",
       "          \"avg_logprobs\": -0.40668628329322454\n",
       "        }\n",
       "      ],\n",
       "      \"usage_metadata\": {\n",
       "        \"prompt_token_count\": 538,\n",
       "        \"candidates_token_count\": 168,\n",
       "        \"total_token_count\": 706\n",
       "      }\n",
       "    }),\n",
       ")"
      ]
     },
     "execution_count": 5,
     "metadata": {},
     "output_type": "execute_result"
    }
   ],
   "source": [
    "raw"
   ]
  },
  {
   "cell_type": "code",
   "execution_count": 6,
   "metadata": {},
   "outputs": [
    {
     "data": {
      "text/plain": [
       "[['Monitor employee activity',\n",
       "  'EmpMonitor: Seamlessly track employee performance.'],\n",
       " ['Easy integration process',\n",
       "  'Effortless setup with your existing workspace.'],\n",
       " ['Boost team productivity', 'Improve efficiency and achieve better results.'],\n",
       " ['Real-time data insights', 'Gain valuable insights into team performance.'],\n",
       " ['Data-driven decisions', 'Make informed decisions based on accurate data.'],\n",
       " ['Sale now live!', 'Get EmpMonitor now at a special price!'],\n",
       " ['Time matters', 'EmpMonitor helps you make the most of your time.'],\n",
       " ['Secure employee data', 'Safe and reliable platform to monitor your team.'],\n",
       " ['Improved workplace efficiency', 'Streamline operations with EmpMonitor.'],\n",
       " ['Increase workplace productivity',\n",
       "  \"Maximize productivity with EmpMonitor's simple interface.\"]]"
      ]
     },
     "execution_count": 6,
     "metadata": {},
     "output_type": "execute_result"
    }
   ],
   "source": [
    "gemini_response"
   ]
  },
  {
   "cell_type": "code",
   "execution_count": 7,
   "metadata": {},
   "outputs": [],
   "source": [
    "d =\"```\\n<BEGIN> [['Monitor employee productivity', 'EmpMonitor: Boost team efficiency with easy integration.'], ['Real-time data insights', 'See your team\\u2019s work in action, increase productivity.'], ['Effortless workspace setup', 'Integrate EmpMonitor seamlessly into your existing workflow.'], ['Sales event live now', 'Don\\u2019t miss our limited-time offer! Time matters.'], ['Improved team management', 'EmpMonitor provides real-time data for better team management.'], ['Secure employee data', 'EmpMonitor ensures your employee data is safe and secure.'], ['Streamlined workflow', 'See how EmpMonitor simplifies your workflow and saves time.'], ['Increase team output', 'Maximize your team\\u2019s potential with EmpMonitor\\u2019s insights.'], ['Simple user interface', 'Easy to use, even for those new to employee monitoring.'], ['Time matters, act now', 'Our limited-time sale on EmpMonitor is ending soon!']] <END>\\n```\\n\"\n"
   ]
  },
  {
   "cell_type": "code",
   "execution_count": 8,
   "metadata": {},
   "outputs": [],
   "source": [
    "import json\n",
    "s = (d[d.find(\"<BEGIN>\")+7:d.find(\"<END>\")]).strip()"
   ]
  },
  {
   "cell_type": "code",
   "execution_count": 9,
   "metadata": {},
   "outputs": [
    {
     "data": {
      "text/plain": [
       "\"[['Monitor employee productivity', 'EmpMonitor: Boost team efficiency with easy integration.'], ['Real-time data insights', 'See your team’s work in action, increase productivity.'], ['Effortless workspace setup', 'Integrate EmpMonitor seamlessly into your existing workflow.'], ['Sales event live now', 'Don’t miss our limited-time offer! Time matters.'], ['Improved team management', 'EmpMonitor provides real-time data for better team management.'], ['Secure employee data', 'EmpMonitor ensures your employee data is safe and secure.'], ['Streamlined workflow', 'See how EmpMonitor simplifies your workflow and saves time.'], ['Increase team output', 'Maximize your team’s potential with EmpMonitor’s insights.'], ['Simple user interface', 'Easy to use, even for those new to employee monitoring.'], ['Time matters, act now', 'Our limited-time sale on EmpMonitor is ending soon!']]\""
      ]
     },
     "execution_count": 9,
     "metadata": {},
     "output_type": "execute_result"
    }
   ],
   "source": [
    "s"
   ]
  },
  {
   "cell_type": "code",
   "execution_count": 10,
   "metadata": {},
   "outputs": [
    {
     "data": {
      "text/plain": [
       "[['Monitor employee productivity',\n",
       "  'EmpMonitor Boost team efficiency with easy integration.'],\n",
       " ['Real-time data insights',\n",
       "  'See your team’s work in action, increase productivity.'],\n",
       " ['Effortless workspace setup',\n",
       "  'Integrate EmpMonitor seamlessly into your existing workflow.'],\n",
       " ['Sales event live now', 'Don’t miss our limited-time offer! Time matters.'],\n",
       " ['Improved team management',\n",
       "  'EmpMonitor provides real-time data for better team management.'],\n",
       " ['Secure employee data',\n",
       "  'EmpMonitor ensures your employee data is safe and secure.'],\n",
       " ['Streamlined workflow',\n",
       "  'See how EmpMonitor simplifies your workflow and saves time.'],\n",
       " ['Increase team output',\n",
       "  'Maximize your team’s potential with EmpMonitor’s insights.'],\n",
       " ['Simple user interface',\n",
       "  'Easy to use, even for those new to employee monitoring.'],\n",
       " ['Time matters, act now',\n",
       "  'Our limited-time sale on EmpMonitor is ending soon!']]"
      ]
     },
     "execution_count": 10,
     "metadata": {},
     "output_type": "execute_result"
    }
   ],
   "source": [
    "eval(s.replace(\":\", \"\"))"
   ]
  },
  {
   "cell_type": "code",
   "execution_count": 11,
   "metadata": {},
   "outputs": [
    {
     "ename": "SyntaxError",
     "evalue": "invalid syntax (<string>, line 1)",
     "output_type": "error",
     "traceback": [
      "Traceback \u001b[1;36m(most recent call last)\u001b[0m:\n",
      "\u001b[0m  File \u001b[0;32mc:\\Users\\GLB-BLR-307\\Documents\\VideoGeneration\\venv_vid_gen_312\\Lib\\site-packages\\IPython\\core\\interactiveshell.py:3577\u001b[0m in \u001b[0;35mrun_code\u001b[0m\n    exec(code_obj, self.user_global_ns, self.user_ns)\u001b[0m\n",
      "\u001b[1;36m  Cell \u001b[1;32mIn[11], line 1\u001b[1;36m\n\u001b[1;33m    eval(raw.parts[0].text.strip(\"```python\\n\").strip(\"```\"))\u001b[1;36m\n",
      "\u001b[1;36m  File \u001b[1;32m<string>:1\u001b[1;36m\u001b[0m\n\u001b[1;33m    <BEGIN> [['Monitor employee activity', 'EmpMonitor: Seamlessly track employee performance.'], ['Easy integration process', 'Effortless setup with your existing workspace.'], ['Boost team productivity', 'Improve efficiency and achieve better results.'], ['Real-time data insights', 'Gain valuable insights into team performance.'], ['Data-driven decisions', 'Make informed decisions based on accurate data.'], ['Sale now live!', 'Get EmpMonitor now at a special price!'], ['Time matters', 'EmpMonitor helps you make the most of your time.'], ['Secure employee data', 'Safe and reliable platform to monitor your team.'], ['Improved workplace efficiency', 'Streamline operations with EmpMonitor.'], ['Increase workplace productivity', 'Maximize productivity with EmpMonitor\\'s simple interface.']] <END>\u001b[0m\n\u001b[1;37m    ^\u001b[0m\n\u001b[1;31mSyntaxError\u001b[0m\u001b[1;31m:\u001b[0m invalid syntax\n"
     ]
    }
   ],
   "source": [
    "eval(raw.parts[0].text.strip(\"```python\\n\").strip(\"```\"))"
   ]
  },
  {
   "cell_type": "code",
   "execution_count": null,
   "metadata": {},
   "outputs": [
    {
     "data": {
      "text/plain": [
       "['hi hello welcom namastey', 'sat sri akal vadakkam', 'kemchho']"
      ]
     },
     "execution_count": 16,
     "metadata": {},
     "output_type": "execute_result"
    }
   ],
   "source": [
    "import textwrap\n",
    "textwrap.wrap(\"hi hello welcom namastey sat sri akal vadakkam kemchho \", 25)"
   ]
  },
  {
   "cell_type": "code",
   "execution_count": null,
   "metadata": {},
   "outputs": [],
   "source": [
    "# <!-- Sure! Here's the prompt formatted as a Python string: -->\n",
    "\n",
    "prompt = '''Prepare a video ad script that will appear as subtitles over a merged video containing different time spans, as provided:  \n",
    "{str(time_spans)}  \n",
    "\n",
    "**INSTRUCTION**: \"General purpose {instruction}\"  \n",
    "{other_information}  \n",
    "\n",
    "**Output Pattern**:  \n",
    "A list of pairs in the format:  \n",
    "`[[<short_sentence_with_keywords>, <longer_sentence>], [<short_sentence_with_keywords>, <longer_sentence>], ...]`  \n",
    "\n",
    "- **Short Sentence**: 5 words or fewer, containing visually concrete and specific keywords.  \n",
    "    - Examples: \"Cheetah running\", \"Rainy street\", \"Sunset beach\".  \n",
    "    - Avoid vague phrases like \"beautiful view\" or \"emotional moment\".  \n",
    "- **Longer Sentence**: Descriptive context (within 50 words) that complements the short sentence.  \n",
    "\n",
    "**HINTS**:  \n",
    "- Use short sentences as **searchable visual keywords** for matching relevant background visuals.  \n",
    "- If a sentence lacks clarity, combine it with context from nearby sentences to infer the correct visual keywords.  \n",
    "- Use **English only** in the responses.  \n",
    "\n",
    "**EXPECTED RESPONSE**:  \n",
    "```\n",
    "<BEGIN> [[<short_sentence_1>, <longer_sentence_1>], [<short_sentence_2>, <longer_sentence_2>], ...] <END>\n",
    "```\n",
    "\n",
    "**Response Guidelines**:  \n",
    "1. Strictly return a **nested list** formatted as specified above.  \n",
    "2. **Do not include** additional items, notes, symbols, or encodings (e.g., no `\\u201c` or explanations).  \n",
    "3. Ensure:  \n",
    "    - Short sentences are visually specific and contain 5 words or fewer.  \n",
    "    - Longer sentences are descriptive, stay within 50 words, and relate to the short sentence.  \n",
    "\n",
    "**Example Response**:  \n",
    "```\n",
    "<BEGIN> [['Snowy mountain peak', 'A majestic view of snow-covered peaks under the clear blue sky.'], ['City skyline at dusk', 'The city lights begin to glow as the sun sets over the horizon.'], ['Forest trail morning sunlight', 'Sunlight filters through tall trees, illuminating a quiet forest path.']] <END>\n",
    "```\n",
    "'''\n",
    "\n",
    "\n",
    "# <!-- This Python string format allows you to easily integrate the prompt into your code. Let me know if you need any adjustments! -->"
   ]
  }
 ],
 "metadata": {
  "kernelspec": {
   "display_name": "venv_vid_gen_312",
   "language": "python",
   "name": "python3"
  },
  "language_info": {
   "codemirror_mode": {
    "name": "ipython",
    "version": 3
   },
   "file_extension": ".py",
   "mimetype": "text/x-python",
   "name": "python",
   "nbconvert_exporter": "python",
   "pygments_lexer": "ipython3",
   "version": "3.12.8"
  }
 },
 "nbformat": 4,
 "nbformat_minor": 2
}
